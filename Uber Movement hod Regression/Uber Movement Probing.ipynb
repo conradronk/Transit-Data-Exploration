{
 "cells": [
  {
   "cell_type": "code",
   "execution_count": 23,
   "metadata": {
    "slideshow": {
     "slide_type": "-"
    }
   },
   "outputs": [],
   "source": [
    "import pandas as pd\n",
    "import numpy as np\n",
    "\n",
    "#first regression library, statsmodels\n",
    "import statsmodels.api as sm\n",
    "\n",
    "#secton regression library, sci-kit-learn\n",
    "import scipy.stats as stats\n",
    "import matplotlib.pyplot as plt\n",
    "import sklearn\n",
    "from sklearn.linear_model import LinearRegression"
   ]
  },
  {
   "cell_type": "markdown",
   "metadata": {
    "slideshow": {
     "slide_type": "-"
    }
   },
   "source": [
    "# Importing data & prepping"
   ]
  },
  {
   "cell_type": "code",
   "execution_count": 2,
   "metadata": {},
   "outputs": [
    {
     "name": "stdout",
     "output_type": "stream",
     "text": [
      "   sourceid  dstid  hod  mean_travel_time  standard_deviation_travel_time  \\\n",
      "0         3      5   20            987.60                          355.46   \n",
      "1         5      3    0           1014.14                          197.06   \n",
      "2         5      3   16           1665.80                          381.10   \n",
      "3         1     12    2            180.04                          109.52   \n",
      "4         1     12   18            278.22                          192.63   \n",
      "\n",
      "   geometric_mean_travel_time  geometric_standard_deviation_travel_time  \n",
      "0                      933.95                                      1.38  \n",
      "1                      996.06                                      1.21  \n",
      "2                     1621.42                                      1.26  \n",
      "3                      158.66                                      1.59  \n",
      "4                      219.43                                      2.13  \n"
     ]
    }
   ],
   "source": [
    "# Importing the uber data\n",
    "filename = \"Data/boston-censustracts-2018-3-OnlyWeekdays-HourlyAggregate.csv\"\n",
    "table = pd.read_csv(filename)\n",
    "\n",
    "# Getting a look at the new table\n",
    "print(table.head())"
   ]
  },
  {
   "cell_type": "markdown",
   "metadata": {},
   "source": [
    "### Generating variables"
   ]
  },
  {
   "cell_type": "code",
   "execution_count": 3,
   "metadata": {},
   "outputs": [
    {
     "name": "stdout",
     "output_type": "stream",
     "text": [
      "   sourceid  dstid  hod  mean_travel_time  standard_deviation_travel_time  \\\n",
      "0         3      5   20            987.60                          355.46   \n",
      "1         5      3    0           1014.14                          197.06   \n",
      "2         5      3   16           1665.80                          381.10   \n",
      "3         1     12    2            180.04                          109.52   \n",
      "4         1     12   18            278.22                          192.63   \n",
      "\n",
      "   geometric_mean_travel_time  geometric_standard_deviation_travel_time  pair  \n",
      "0                      933.95                                      1.38   3-5  \n",
      "1                      996.06                                      1.21   5-3  \n",
      "2                     1621.42                                      1.26   5-3  \n",
      "3                      158.66                                      1.59  1-12  \n",
      "4                      219.43                                      2.13  1-12  \n"
     ]
    }
   ],
   "source": [
    "# Create \"pairs\" row, essentially as an id for the trip in question\n",
    "table['pair'] = table.apply(lambda row: str(int(row['sourceid']))+'-'+str(int(row['dstid'])),axis=1).head()\n",
    "print(table.head())"
   ]
  },
  {
   "cell_type": "code",
   "execution_count": 4,
   "metadata": {
    "scrolled": true
   },
   "outputs": [],
   "source": [
    "# Creating the dummy variables for hour of day, to see the distinct effect of that particular hour on mean_travel_time\n",
    "for x in np.nditer(table[\"hod\"].unique()):\n",
    "    table.loc[table.hod == int(x), (str(x)+\"hr\")] = int(1)\n",
    "    table.loc[table.hod != int(x), (str(x)+\"hr\")] = int(0)"
   ]
  },
  {
   "cell_type": "markdown",
   "metadata": {},
   "source": [
    "Side note: even though'hod' is a continuous variable, we're not trying to predice the marginal effect of a one unit increase in the hour of the day, but rather the effect that any given hour has on travel time: Essentially, we want to treat the time as a categorical variable. So, we need to dummy out all the hours of the day."
   ]
  },
  {
   "cell_type": "markdown",
   "metadata": {
    "slideshow": {
     "slide_type": "-"
    }
   },
   "source": [
    "# Regressions\n",
    "    Dependent: 'mean_travel_time'\n",
    "    Independent: 'hod', dummied out into 24 binary variables\n",
    "    \n",
    "## using Statsmodels"
   ]
  },
  {
   "cell_type": "code",
   "execution_count": 21,
   "metadata": {
    "scrolled": false,
    "slideshow": {
     "slide_type": "-"
    }
   },
   "outputs": [
    {
     "name": "stdout",
     "output_type": "stream",
     "text": [
      "                            OLS Regression Results                            \n",
      "==============================================================================\n",
      "Dep. Variable:       mean_travel_time   R-squared:                       0.105\n",
      "Model:                            OLS   Adj. R-squared:                  0.105\n",
      "Method:                 Least Squares   F-statistic:                 1.964e+04\n",
      "Date:                Mon, 27 May 2019   Prob (F-statistic):               0.00\n",
      "Time:                        17:53:56   Log-Likelihood:            -3.0643e+07\n",
      "No. Observations:             3860011   AIC:                         6.129e+07\n",
      "Df Residuals:                 3859987   BIC:                         6.129e+07\n",
      "Df Model:                          23                                         \n",
      "Covariance Type:            nonrobust                                         \n",
      "==============================================================================\n",
      "                 coef    std err          t      P>|t|      [0.025      0.975]\n",
      "------------------------------------------------------------------------------\n",
      "Intercept   1009.6124      1.793    563.007      0.000    1006.098    1013.127\n",
      "1hr          -76.1807      2.666    -28.572      0.000     -81.407     -70.955\n",
      "2hr         -134.7989      2.837    -47.518      0.000    -140.359    -129.239\n",
      "3hr         -131.2980      2.913    -45.072      0.000    -137.008    -125.588\n",
      "4hr          -81.0063      2.827    -28.653      0.000     -86.547     -75.465\n",
      "5hr           15.8071      2.670      5.921      0.000      10.575      21.039\n",
      "6hr          223.2545      2.516     88.730      0.000     218.323     228.186\n",
      "7hr          490.1633      2.433    201.490      0.000     485.395     494.931\n",
      "8hr          482.0258      2.421    199.103      0.000     477.281     486.771\n",
      "9hr          321.9790      2.417    133.241      0.000     317.243     326.715\n",
      "10hr         250.0731      2.431    102.856      0.000     245.308     254.838\n",
      "11hr         252.8364      2.431    104.011      0.000     248.072     257.601\n",
      "12hr         283.2487      2.418    117.128      0.000     278.509     287.988\n",
      "13hr         325.6525      2.414    134.888      0.000     320.921     330.384\n",
      "14hr         498.9863      2.389    208.853      0.000     494.304     503.669\n",
      "15hr         630.9961      2.373    265.897      0.000     626.345     635.647\n",
      "16hr         706.6043      2.368    298.366      0.000     701.963     711.246\n",
      "17hr         686.6245      2.373    289.347      0.000     681.973     691.275\n",
      "18hr         439.1928      2.377    184.782      0.000     434.534     443.851\n",
      "19hr         249.5451      2.392    104.329      0.000     244.857     254.233\n",
      "20hr         180.1101      2.407     74.840      0.000     175.393     184.827\n",
      "21hr         168.8591      2.401     70.343      0.000     164.154     173.564\n",
      "22hr         159.6535      2.405     66.393      0.000     154.940     164.367\n",
      "23hr         128.1261      2.424     52.857      0.000     123.375     132.877\n",
      "==============================================================================\n",
      "Omnibus:                   807406.126   Durbin-Watson:                   1.831\n",
      "Prob(Omnibus):                  0.000   Jarque-Bera (JB):          2510663.910\n",
      "Skew:                           1.076   Prob(JB):                         0.00\n",
      "Kurtosis:                       6.313   Cond. No.                         26.5\n",
      "==============================================================================\n",
      "\n",
      "Warnings:\n",
      "[1] Standard Errors assume that the covariance matrix of the errors is correctly specified.\n"
     ]
    }
   ],
   "source": [
    "# Adding an intercept column, to be assigned a single coeffecient by the model\n",
    "table['Intercept'] = 1.0\n",
    "\n",
    "# Statsmodels takes the DV and its IVs as Dataframes\n",
    "DV = table[\"mean_travel_time\"] # also the Y\n",
    "IV = table[[\n",
    "    'Intercept', '1hr','2hr','3hr','4hr','5hr','6hr','7hr','8hr','9hr','10hr',\n",
    "    '11hr','12hr','13hr', '14hr','15hr','16hr','17hr','18hr','19hr','20hr',\n",
    "    '21hr','22hr','23hr'\n",
    "]] # also the X's\n",
    "\n",
    "model = sm.OLS(DV,IV).fit()\n",
    "\n",
    "print(model.summary())\n"
   ]
  },
  {
   "cell_type": "markdown",
   "metadata": {
    "slideshow": {
     "slide_type": "-"
    }
   },
   "source": [
    "#### Notes/Issues\n",
    "- When I include an intercept, *and* all 24 dummy variables, the the values soar, e.g. -1.4e10 becomes the only coeffecient, and +1.4e10 the intercept. Removing even a single hour dummy fixes this. Why? Could this be an issue of no baseline to compare to? e.g. there's no \"when all treatments are absent, we get __\"? For now, just removed midnight, which is functioning as the \"without treatment\" situation."
   ]
  },
  {
   "cell_type": "markdown",
   "metadata": {},
   "source": [
    "## using Sci-Kit Learn"
   ]
  },
  {
   "cell_type": "code",
   "execution_count": 25,
   "metadata": {},
   "outputs": [
    {
     "data": {
      "text/plain": [
       "LinearRegression(copy_X=True, fit_intercept=True, n_jobs=1, normalize=False)"
      ]
     },
     "execution_count": 25,
     "metadata": {},
     "output_type": "execute_result"
    }
   ],
   "source": [
    "# Creating the model\n",
    "lm = LinearRegression() # creating a sklearn linear model\n",
    "\n",
    "DV = table[\"mean_travel_time\"] # also the Y\n",
    "IV = table[[\n",
    "    '1hr','2hr','3hr','4hr','5hr','6hr','7hr','8hr','9hr','10hr',\n",
    "    '11hr','12hr','13hr', '14hr','15hr','16hr','17hr','18hr','19hr','20hr',\n",
    "    '21hr','22hr','23hr'\n",
    "]] # all the X's\n",
    "\n",
    "lm.fit(IV,DV)"
   ]
  },
  {
   "cell_type": "code",
   "execution_count": 49,
   "metadata": {},
   "outputs": [
    {
     "name": "stdout",
     "output_type": "stream",
     "text": [
      "   Variable  Coefficient\n",
      "0       1hr   -76.180679\n",
      "1       2hr  -134.798856\n",
      "2       3hr  -131.298017\n",
      "3       4hr   -81.006251\n",
      "4       5hr    15.807079\n",
      "5       6hr   223.254479\n",
      "6       7hr   490.163254\n",
      "7       8hr   482.025842\n",
      "8       9hr   321.978955\n",
      "9      10hr   250.073102\n",
      "10     11hr   252.836420\n",
      "11     12hr   283.248661\n",
      "12     13hr   325.652549\n",
      "13     14hr   498.986291\n",
      "14     15hr   630.996052\n",
      "15     16hr   706.604291\n",
      "16     17hr   686.624473\n",
      "17     18hr   439.192807\n",
      "18     19hr   249.545144\n",
      "19     20hr   180.110071\n",
      "20     21hr   168.859068\n",
      "21     22hr   159.653512\n",
      "22     23hr   128.126052\n",
      "constant: 1009.61243244\n"
     ]
    }
   ],
   "source": [
    "#Querying the model\n",
    "print(pd.DataFrame(list(zip(IV.columns, lm.coef_)),columns = [\"Variable\", \"Coefficient\"]))\n",
    "print(\"constant: \" + str(lm.intercept_))"
   ]
  },
  {
   "cell_type": "markdown",
   "metadata": {},
   "source": [
    "# Plots & Visualizations"
   ]
  },
  {
   "cell_type": "code",
   "execution_count": 72,
   "metadata": {},
   "outputs": [
    {
     "data": {
      "text/plain": [
       "Text(0,0.5,'Mean Trip Dur. (seconds)')"
      ]
     },
     "execution_count": 72,
     "metadata": {},
     "output_type": "execute_result"
    },
    {
     "data": {
      "image/png": "[encoded data removed]",
      "text/plain": [
       "<Figure size 432x288 with 1 Axes>"
      ]
     },
     "metadata": {},
     "output_type": "display_data"
    }
   ],
   "source": [
    "# Adjusting the data for visualization\n",
    "y_values = np.insert(lm.coef_,0,0) # Adding midnight/0hr back in, as the baseline\n",
    "y_values = y_values + lm.intercept_ # Shifting up all values by the constant, \n",
    "                                    # so now we have a graph of estimated mean travel time\n",
    "y_values = y_values/60 # Converting to minutes, for readability\n",
    "\n",
    "plt.plot(range(24),y_values)\n",
    "plt.xlabel(\"Hour of day\")\n",
    "plt.xticks(range(24))\n",
    "plt.ylabel(\"Mean Trip Dur. (min)\")\n",
    "\n",
    "plt.show()"
   ]
  },
  {
   "cell_type": "code",
   "execution_count": 97,
   "metadata": {},
   "outputs": [
    {
     "data": {
      "image/png": "[encoded data removed]",
      "text/plain": [
       "<Figure size 432x288 with 1 Axes>"
      ]
     },
     "metadata": {},
     "output_type": "display_data"
    }
   ],
   "source": [
    "# Getting creative with the formatting\n",
    "plt.plot(range(24),y_values, linewidth=4, color = \"k\")\n",
    "plt.xlabel(\"Hour of day\")\n",
    "plt.xticks(range(24), rotation = 60)\n",
    "plt.ylabel(\"Mean Trip Dur. (min)\")\n",
    "\n",
    "plt.grid(axis=\"both\",color=\"0.8\")\n",
    "\n",
    "\n",
    "ax = plt.gca()\n",
    "ax.spines['top'].set_visible(False)\n",
    "ax.spines['right'].set_visible(False)\n",
    "ax.spines['bottom'].set_visible(False)\n",
    "ax.spines['left'].set_visible(False)\n",
    "ax.tick_params(colors=\"w\")\n",
    "\n",
    "\n",
    "plt.show()"
   ]
  },
  {
   "cell_type": "markdown",
   "metadata": {},
   "source": [
    "# Notes, Issues, and Areas for Improvement\n",
    "- What this fails to account for is how some trips might be more popular at certain hours, e.g. say if longer trips (in both distance and time) happen to take place in the mid day period, but not at night, this would lead to an artificial inflation of the effect of those hours on travel time."
   ]
  }
 ],
 "metadata": {
  "kernelspec": {
   "display_name": "Python 3",
   "language": "python",
   "name": "python3"
  },
  "language_info": {
   "codemirror_mode": {
    "name": "ipython",
    "version": 3
   },
   "file_extension": ".py",
   "mimetype": "text/x-python",
   "name": "python",
   "nbconvert_exporter": "python",
   "pygments_lexer": "ipython3",
   "version": "3.6.2"
  }
 },
 "nbformat": 4,
 "nbformat_minor": 2
}
